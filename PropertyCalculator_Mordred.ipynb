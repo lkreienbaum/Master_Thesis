{
 "cells": [
  {
   "cell_type": "code",
   "execution_count": null,
   "id": "a16c006d",
   "metadata": {},
   "outputs": [],
   "source": [
    "from rdkit import Chem\n",
    "from mordred import Calculator, descriptors\n",
    "import numpy as np\n",
    "import pandas as pd\n",
    "\n",
    "\n",
    "#CSV-File with 3 columns: NAME, K_off (labels), and SMILES codes\n",
    "data = pd.read_csv(\"csvfile.csv\",';',low_memory=False,usecols=lambda x: x in 'NAME' 'K_off' 'SMILES')\n",
    "\n",
    "calc= Calculator(descriptors, ignore_3D=True)\n",
    "count=2\n",
    "counterfirst=0\n",
    "for file in data['SMILES']:\n",
    "    \n",
    "    if counterfirst==0:\n",
    "\n",
    "        result=calc(Chem.MolFromSmiles(file))\n",
    "\n",
    "\n",
    "        count += 1\n",
    "        feats=result.items()\n",
    "        for x in result.keys():\n",
    "            x = str(x)\n",
    "\n",
    "            if x not in list(data.head()):\n",
    "                data[x]=0\n",
    "    counterfirst=1\n",
    "    result=calc(Chem.MolFromSmiles(file))\n",
    "    print(result)\n",
    "    for x in data.head():\n",
    "        \n",
    "        print(x)\n",
    "        \n",
    "        if x not in 'NAME' 'K_off' 'SMILES':\n",
    "            x=str(x)\n",
    "            \n",
    "            data.loc[data['SMILES']==file,x]=result[x]\n",
    "            \n",
    "data.to_csv(sep=';')"
   ]
  }
 ],
 "metadata": {
  "kernelspec": {
   "display_name": "Python [conda env:my-rdkit-env] *",
   "language": "python",
   "name": "conda-env-my-rdkit-env-py"
  },
  "language_info": {
   "codemirror_mode": {
    "name": "ipython",
    "version": 3
   },
   "file_extension": ".py",
   "mimetype": "text/x-python",
   "name": "python",
   "nbconvert_exporter": "python",
   "pygments_lexer": "ipython3",
   "version": "3.7.15"
  }
 },
 "nbformat": 4,
 "nbformat_minor": 5
}
